{
  "nbformat": 4,
  "nbformat_minor": 0,
  "metadata": {
    "colab": {
      "provenance": [],
      "authorship_tag": "ABX9TyMLsP0Ters85wUvoz60D80l",
      "include_colab_link": true
    },
    "kernelspec": {
      "name": "python3",
      "display_name": "Python 3"
    },
    "language_info": {
      "name": "python"
    }
  },
  "cells": [
    {
      "cell_type": "markdown",
      "metadata": {
        "id": "view-in-github",
        "colab_type": "text"
      },
      "source": [
        "<a href=\"https://colab.research.google.com/github/deepavasanthkumar/spark_tips/blob/main/PySpark_SQL_String_and_Other_Functions.ipynb\" target=\"_parent\"><img src=\"https://colab.research.google.com/assets/colab-badge.svg\" alt=\"Open In Colab\"/></a>"
      ]
    },
    {
      "cell_type": "code",
      "execution_count": 1,
      "metadata": {
        "colab": {
          "base_uri": "https://localhost:8080/"
        },
        "id": "xiviFL6nmr5K",
        "outputId": "2a7dd689-d91b-457c-d4e9-46bff97c2b6b"
      },
      "outputs": [
        {
          "output_type": "stream",
          "name": "stdout",
          "text": [
            "Collecting pyspark\n",
            "  Downloading pyspark-3.5.1.tar.gz (317.0 MB)\n",
            "\u001b[2K     \u001b[90m━━━━━━━━━━━━━━━━━━━━━━━━━━━━━━━━━━━━━━━━\u001b[0m \u001b[32m317.0/317.0 MB\u001b[0m \u001b[31m3.0 MB/s\u001b[0m eta \u001b[36m0:00:00\u001b[0m\n",
            "\u001b[?25h  Preparing metadata (setup.py) ... \u001b[?25l\u001b[?25hdone\n",
            "Requirement already satisfied: py4j==0.10.9.7 in /usr/local/lib/python3.10/dist-packages (from pyspark) (0.10.9.7)\n",
            "Building wheels for collected packages: pyspark\n",
            "  Building wheel for pyspark (setup.py) ... \u001b[?25l\u001b[?25hdone\n",
            "  Created wheel for pyspark: filename=pyspark-3.5.1-py2.py3-none-any.whl size=317488493 sha256=a491a455c63d7f3894fa8ec2adbecf635b2df2a4b9db069e9d24c31b3a76694c\n",
            "  Stored in directory: /root/.cache/pip/wheels/80/1d/60/2c256ed38dddce2fdd93be545214a63e02fbd8d74fb0b7f3a6\n",
            "Successfully built pyspark\n",
            "Installing collected packages: pyspark\n",
            "Successfully installed pyspark-3.5.1\n"
          ]
        }
      ],
      "source": [
        "!pip install pyspark"
      ]
    },
    {
      "cell_type": "code",
      "source": [
        "import pyspark\n",
        "from pyspark.sql import SparkSession\n",
        "\n",
        "spark = SparkSession.builder.appName(\"Spark all Functions \").getOrCreate()\n",
        "spark"
      ],
      "metadata": {
        "colab": {
          "base_uri": "https://localhost:8080/",
          "height": 219
        },
        "id": "oOHBLui8mwRc",
        "outputId": "84a49ad9-b88a-4ff8-f0dc-9ccb139547fb"
      },
      "execution_count": 2,
      "outputs": [
        {
          "output_type": "execute_result",
          "data": {
            "text/plain": [
              "<pyspark.sql.session.SparkSession at 0x797ab0935870>"
            ],
            "text/html": [
              "\n",
              "            <div>\n",
              "                <p><b>SparkSession - in-memory</b></p>\n",
              "                \n",
              "        <div>\n",
              "            <p><b>SparkContext</b></p>\n",
              "\n",
              "            <p><a href=\"http://767adf247f14:4040\">Spark UI</a></p>\n",
              "\n",
              "            <dl>\n",
              "              <dt>Version</dt>\n",
              "                <dd><code>v3.5.1</code></dd>\n",
              "              <dt>Master</dt>\n",
              "                <dd><code>local[*]</code></dd>\n",
              "              <dt>AppName</dt>\n",
              "                <dd><code>Spark all Functions </code></dd>\n",
              "            </dl>\n",
              "        </div>\n",
              "        \n",
              "            </div>\n",
              "        "
            ]
          },
          "metadata": {},
          "execution_count": 2
        }
      ]
    },
    {
      "cell_type": "code",
      "source": [
        "spark.sql(\"SELECT substring_index('Spark-sql-functions-demo', '-', 2)\").show(truncate=False)"
      ],
      "metadata": {
        "colab": {
          "base_uri": "https://localhost:8080/"
        },
        "id": "kPuTpvKVm5PL",
        "outputId": "2db72d5f-1dd2-4dca-ebd3-3eed6a7f8b83"
      },
      "execution_count": 3,
      "outputs": [
        {
          "output_type": "stream",
          "name": "stdout",
          "text": [
            "+-----------------------------------------------+\n",
            "|substring_index(Spark-sql-functions-demo, -, 2)|\n",
            "+-----------------------------------------------+\n",
            "|Spark-sql                                      |\n",
            "+-----------------------------------------------+\n",
            "\n"
          ]
        }
      ]
    },
    {
      "cell_type": "code",
      "source": [
        "spark.sql(\"SELECT substring_index('Spark-sql-functions-demo', '-', -2)\").show(truncate=False)"
      ],
      "metadata": {
        "colab": {
          "base_uri": "https://localhost:8080/"
        },
        "id": "-mBIK8BtnBns",
        "outputId": "d07fd555-332a-4802-b896-e45d678e8b72"
      },
      "execution_count": 4,
      "outputs": [
        {
          "output_type": "stream",
          "name": "stdout",
          "text": [
            "+------------------------------------------------+\n",
            "|substring_index(Spark-sql-functions-demo, -, -2)|\n",
            "+------------------------------------------------+\n",
            "|functions-demo                                  |\n",
            "+------------------------------------------------+\n",
            "\n"
          ]
        }
      ]
    },
    {
      "cell_type": "code",
      "source": [
        "from pyspark.sql.types import StructType,StructField, StringType, IntegerType\n",
        "data1 = [(\"James\",\"\",\"Smith\",\"36636\",\"M\", 1000, \"Sales\", 2020),\n",
        "    (\"Michael\",\"Rose\",\"\",\"40288\",\"M\", 2000, \"Operations\",2020),\n",
        "    (\"Robert\",\"\",\"Williams\",\"42114\",\"M\", 3000, \"Sales\",2020),\n",
        "    (\"Maria\",\"Anne\",\"Jones\",\"39192\",\"F\", 4000, \"Operations\",2020),\n",
        "  (\"Ria\",\"Anne\",\"Jones\",\"60000\",\"F\", 7000, \"Operations\",2020)\n",
        "\n",
        "  ]\n",
        "\n",
        "schema1 = StructType([ \\\n",
        "    StructField(\"firstname\",StringType(),True), \\\n",
        "    StructField(\"middlename\",StringType(),True), \\\n",
        "    StructField(\"lastname\",StringType(),True), \\\n",
        "    StructField(\"id\", StringType(), True), \\\n",
        "    StructField(\"gender\", StringType(), True),\n",
        "    StructField(\"annualsalary\", IntegerType(), True),\n",
        "    StructField(\"work\", StringType(), True),\n",
        "    StructField(\"year\", IntegerType(), True),\n",
        "\n",
        "  ])\n",
        "\n",
        "df1 = spark.createDataFrame(data=data1,schema=schema1)\n",
        "\n",
        "df1.createOrReplaceTempView(\"table1\")\n",
        "\n",
        "spark.sql(\"SELECT monotonically_increasing_id() as Id, * from table1\").show(truncate=False)\n"
      ],
      "metadata": {
        "colab": {
          "base_uri": "https://localhost:8080/"
        },
        "id": "tDIUnk0MoyS9",
        "outputId": "89daab4b-4c8c-4114-fb72-5037248e6514"
      },
      "execution_count": 5,
      "outputs": [
        {
          "output_type": "stream",
          "name": "stdout",
          "text": [
            "+----------+---------+----------+--------+-----+------+------------+----------+----+\n",
            "|Id        |firstname|middlename|lastname|id   |gender|annualsalary|work      |year|\n",
            "+----------+---------+----------+--------+-----+------+------------+----------+----+\n",
            "|0         |James    |          |Smith   |36636|M     |1000        |Sales     |2020|\n",
            "|1         |Michael  |Rose      |        |40288|M     |2000        |Operations|2020|\n",
            "|8589934592|Robert   |          |Williams|42114|M     |3000        |Sales     |2020|\n",
            "|8589934593|Maria    |Anne      |Jones   |39192|F     |4000        |Operations|2020|\n",
            "|8589934594|Ria      |Anne      |Jones   |60000|F     |7000        |Operations|2020|\n",
            "+----------+---------+----------+--------+-----+------+------------+----------+----+\n",
            "\n"
          ]
        }
      ]
    },
    {
      "cell_type": "code",
      "source": [
        "spark.sql(\"SELECT replace('I do not know SQL Functions', 'do not know', 'am Expert in ')\").show(truncate=False)"
      ],
      "metadata": {
        "colab": {
          "base_uri": "https://localhost:8080/"
        },
        "id": "oZtONLy0qqKb",
        "outputId": "ac7579d6-dcd5-4b06-8776-5453ec667966"
      },
      "execution_count": 6,
      "outputs": [
        {
          "output_type": "stream",
          "name": "stdout",
          "text": [
            "+----------------------------------------------------------------+\n",
            "|replace(I do not know SQL Functions, do not know, am Expert in )|\n",
            "+----------------------------------------------------------------+\n",
            "|I am Expert in  SQL Functions                                   |\n",
            "+----------------------------------------------------------------+\n",
            "\n"
          ]
        }
      ]
    },
    {
      "cell_type": "code",
      "source": [],
      "metadata": {
        "id": "StahQkxTM_Km"
      },
      "execution_count": null,
      "outputs": []
    },
    {
      "cell_type": "code",
      "source": [
        "spark.sql(\"SELECT concat_ws(':', 'Learn', 'SQL', 'Functions')\").show(truncate=False)\n",
        "spark.sql(\"SELECT concat_ws('s')\").show(truncate=False)\n",
        "spark.sql(\"SELECT concat_ws('/', 'expr1', null, 'expr2')\").show(truncate=False)\n",
        "spark.sql(\"SELECT concat_ws(null, 'Learn', 'SQL', 'Functions')\").show(truncate=False)\n"
      ],
      "metadata": {
        "colab": {
          "base_uri": "https://localhost:8080/"
        },
        "id": "myXZFP8_MzbX",
        "outputId": "6226ab16-ec9f-4ee8-993a-4d1d79533671"
      },
      "execution_count": 8,
      "outputs": [
        {
          "output_type": "stream",
          "name": "stdout",
          "text": [
            "+-----------------------------------+\n",
            "|concat_ws(:, Learn, SQL, Functions)|\n",
            "+-----------------------------------+\n",
            "|Learn:SQL:Functions                |\n",
            "+-----------------------------------+\n",
            "\n",
            "+------------+\n",
            "|concat_ws(s)|\n",
            "+------------+\n",
            "|            |\n",
            "+------------+\n",
            "\n",
            "+--------------------------------+\n",
            "|concat_ws(/, expr1, NULL, expr2)|\n",
            "+--------------------------------+\n",
            "|expr1/expr2                     |\n",
            "+--------------------------------+\n",
            "\n",
            "+--------------------------------------+\n",
            "|concat_ws(NULL, Learn, SQL, Functions)|\n",
            "+--------------------------------------+\n",
            "|NULL                                  |\n",
            "+--------------------------------------+\n",
            "\n"
          ]
        }
      ]
    },
    {
      "cell_type": "code",
      "source": [
        "spark.sql(\"SELECT coalesce(NULL, 1, NULL)\").show(truncate=False)\n",
        "spark.sql(\"SELECT coalesce(NULL, NULL, 'This One')\").show(truncate=False)"
      ],
      "metadata": {
        "colab": {
          "base_uri": "https://localhost:8080/"
        },
        "id": "Te-maCf5O4u4",
        "outputId": "514697af-12d2-4241-87db-8463a3c395ac"
      },
      "execution_count": 9,
      "outputs": [
        {
          "output_type": "stream",
          "name": "stdout",
          "text": [
            "+-----------------------+\n",
            "|coalesce(NULL, 1, NULL)|\n",
            "+-----------------------+\n",
            "|1                      |\n",
            "+-----------------------+\n",
            "\n",
            "+------------------------------+\n",
            "|coalesce(NULL, NULL, This One)|\n",
            "+------------------------------+\n",
            "|This One                      |\n",
            "+------------------------------+\n",
            "\n"
          ]
        }
      ]
    },
    {
      "cell_type": "code",
      "source": [
        "spark.sql(\"SELECT trim('    Spark SQL Functions   ')\").show(truncate=False)\n",
        "spark.sql(\"SELECT trim(BOTH FROM '    Spark SQL Functions   ')\").show(truncate=False)\n",
        "spark.sql(\"SELECT trim(LEADING FROM '    Spark SQL Functions   ')\").show(truncate=False) #ltrim\n",
        "spark.sql(\"SELECT trim(TRAILING FROM '    Spark SQL Functions   ')\").show(truncate=False) #rtrim\n",
        "spark.sql(\"SELECT trim('SQL' FROM 'SQL Spark SQL')\").show(truncate=False)\n",
        "spark.sql(\"SELECT trim(BOTH 'SQL' FROM 'SQL Functions DemoSQLs')\").show(truncate=False)\n",
        "spark.sql(\"SELECT trim(LEADING 'SL' FROM 'SQLSparkSQLS')\").show(truncate=False)\n",
        "spark.sql(\"SELECT trim(TRAILING 'SQL' FROM 'SQLSparkSQLS')\").show(truncate=False)\n"
      ],
      "metadata": {
        "colab": {
          "base_uri": "https://localhost:8080/"
        },
        "id": "SQm0ttd-SFAk",
        "outputId": "6f62980c-9542-4e12-c828-844dd9a50880"
      },
      "execution_count": 15,
      "outputs": [
        {
          "output_type": "stream",
          "name": "stdout",
          "text": [
            "+--------------------------------+\n",
            "|trim(    Spark SQL Functions   )|\n",
            "+--------------------------------+\n",
            "|Spark SQL Functions             |\n",
            "+--------------------------------+\n",
            "\n",
            "+--------------------------------+\n",
            "|trim(    Spark SQL Functions   )|\n",
            "+--------------------------------+\n",
            "|Spark SQL Functions             |\n",
            "+--------------------------------+\n",
            "\n",
            "+---------------------------------+\n",
            "|ltrim(    Spark SQL Functions   )|\n",
            "+---------------------------------+\n",
            "|Spark SQL Functions              |\n",
            "+---------------------------------+\n",
            "\n",
            "+---------------------------------+\n",
            "|rtrim(    Spark SQL Functions   )|\n",
            "+---------------------------------+\n",
            "|    Spark SQL Functions          |\n",
            "+---------------------------------+\n",
            "\n",
            "+---------------------------------+\n",
            "|TRIM(BOTH SQL FROM SQL Spark SQL)|\n",
            "+---------------------------------+\n",
            "| Spark                           |\n",
            "+---------------------------------+\n",
            "\n",
            "+------------------------------------------+\n",
            "|TRIM(BOTH SQL FROM SQL Functions DemoSQLs)|\n",
            "+------------------------------------------+\n",
            "| Functions DemoSQLs                       |\n",
            "+------------------------------------------+\n",
            "\n",
            "+----------------------------------+\n",
            "|TRIM(LEADING SL FROM SQLSparkSQLS)|\n",
            "+----------------------------------+\n",
            "|QLSparkSQLS                       |\n",
            "+----------------------------------+\n",
            "\n",
            "+------------------------------------+\n",
            "|TRIM(TRAILING SQL FROM SQLSparkSQLS)|\n",
            "+------------------------------------+\n",
            "|SQLSpark                            |\n",
            "+------------------------------------+\n",
            "\n"
          ]
        }
      ]
    },
    {
      "cell_type": "code",
      "source": [
        "spark.sql(\"SELECT java_method('java.util.UUID', 'randomUUID')\").show(truncate=False)\n",
        "spark.sql(\"SELECT java_method('java.util.UUID', 'fromString', 'a5cf6c42-0c85-418f-af6c-3e4e5b1328f2')\").show(truncate=False)\n",
        "\n",
        "spark.sql(\"SELECT java_method('java.util.Currency', 'getAvailableCurrencies')\").show(truncate=False)"
      ],
      "metadata": {
        "colab": {
          "base_uri": "https://localhost:8080/"
        },
        "id": "v-cdJ8r4VvKp",
        "outputId": "4c6ff022-2b4c-4285-b704-7c4947f1fb74"
      },
      "execution_count": 18,
      "outputs": [
        {
          "output_type": "stream",
          "name": "stdout",
          "text": [
            "+---------------------------------------+\n",
            "|java_method(java.util.UUID, randomUUID)|\n",
            "+---------------------------------------+\n",
            "|72cc9304-c136-4278-9c64-17f139e05120   |\n",
            "+---------------------------------------+\n",
            "\n",
            "+-----------------------------------------------------------------------------+\n",
            "|java_method(java.util.UUID, fromString, a5cf6c42-0c85-418f-af6c-3e4e5b1328f2)|\n",
            "+-----------------------------------------------------------------------------+\n",
            "|a5cf6c42-0c85-418f-af6c-3e4e5b1328f2                                         |\n",
            "+-----------------------------------------------------------------------------+\n",
            "\n",
            "+----------------------------------------------------------------------------------------------------------------------------------------------------------------------------------------------------------------------------------------------------------------------------------------------------------------------------------------------------------------------------------------------------------------------------------------------------------------------------------------------------------------------------------------------------------------------------------------------------------------------------------------------------------------------------------------------------------------------------------------------------------------------------------------------------------------------------------------------------------------------------------------------------------------------------------------------------------------------------------------------------------------------------------------------------------------------------------------------------------------------------------------------------------------------------------------------+\n",
            "|java_method(java.util.Currency, getAvailableCurrencies)                                                                                                                                                                                                                                                                                                                                                                                                                                                                                                                                                                                                                                                                                                                                                                                                                                                                                                                                                                                                                                                                                                                                       |\n",
            "+----------------------------------------------------------------------------------------------------------------------------------------------------------------------------------------------------------------------------------------------------------------------------------------------------------------------------------------------------------------------------------------------------------------------------------------------------------------------------------------------------------------------------------------------------------------------------------------------------------------------------------------------------------------------------------------------------------------------------------------------------------------------------------------------------------------------------------------------------------------------------------------------------------------------------------------------------------------------------------------------------------------------------------------------------------------------------------------------------------------------------------------------------------------------------------------------+\n",
            "|[AYM, GWP, GYD, DKK, ERN, MZN, NGN, BGL, GHS, MRO, BWP, BGN, CRC, BYN, SGD, ITL, AWG, DZD, NIO, BMD, XTS, HTG, PTE, MYR, CYP, FRF, SLE, BYB, RSD, SZL, MGF, NOK, GIP, IRR, SSP, DJF, SDG, CHW, SDD, MNT, MKD, ROL, CDF, GNF, GRD, LVL, MDL, ZMW, BIF, BND, SIT, XUA, BOV, FJD, CNY, ZMK, BYR, ESP, XFU, LBP, RUB, SRD, HUF, AMD, FKP, VEF, INR, LAK, NAD, AZN, JOD, MWK, AFA, MZM, PYG, XXX, MGA, THB, LYD, SCR, EEK, BBD, UGX, ANG, YER, ETB, ISK, ADP, XBA, TWD, XAG, MAD, GTQ, BEF, WST, XAF, HRK, UYU, DEM, CHF, DOP, AUD, AFN, XPD, KES, RON, GMD, TTD, FIM, KHR, STN, VEB, USD, RUR, PKR, CHE, ZWR, XCD, ATS, RWF, USS, UZS, ZWD, QAR, VND, JPY, UYI, KGS, CSD, STD, KWD, LKR, MMK, HNL, XOF, KYD, BOB, SYP, VUV, LUF, IDR, TMM, KZT, JMD, XBD, TRL, EGP, HKD, ZWN, BTN, EUR, UAH, COP, TJS, MXV, MUR, KRW, CUP, USN, TMT, AZM, SRG, ARS, KMF, CZK, TND, SBD, OMR, BZD, XDR, XPT, MOP, MVR, AED, SOS, LTL, CAD, ZAR, CVE, GEL, COU, PGK, AOA, ZWL, SAR, BRL, XBB, IQD, GBP, TZS, TOP, YUM, BSD, NPR, VES, SLL, SKK, XFO, XBC, SHP, XAU, LSL, MRU, BDT, SEK, PEN, KPW, BAM, GHC, PLN, NZD, VED, IEP, MTL, XSU, PAB, NLG, ILS, SVC, ALL, BHD, CUC, TPE, LRD, PHP, XPF, MXN, CLP, TRY, CLF]|\n",
            "+----------------------------------------------------------------------------------------------------------------------------------------------------------------------------------------------------------------------------------------------------------------------------------------------------------------------------------------------------------------------------------------------------------------------------------------------------------------------------------------------------------------------------------------------------------------------------------------------------------------------------------------------------------------------------------------------------------------------------------------------------------------------------------------------------------------------------------------------------------------------------------------------------------------------------------------------------------------------------------------------------------------------------------------------------------------------------------------------------------------------------------------------------------------------------------------------+\n",
            "\n"
          ]
        }
      ]
    },
    {
      "cell_type": "code",
      "source": [
        "spark.sql(\"SELECT 1 < 2\").show(truncate=False)\n",
        "spark.sql(\"SELECT 1.1 < '1'\").show(truncate=False)\n",
        "spark.sql(\"SELECT to_date('2009-07-30 04:17:52') < to_date('2009-07-30 04:17:52')\").show(truncate=False)\n",
        "spark.sql(\"SELECT to_date('2009-07-30 04:17:52') < to_date('2009-08-01 04:17:52')\").show(truncate=False)\n",
        "spark.sql(\"SELECT 1 < NULL\").show(truncate=False)\n",
        "spark.sql(\"SELECT 2 <= 2\").show(truncate=False)\n",
        "spark.sql(\"SELECT 1.0 <= '1'\").show(truncate=False)\n",
        "spark.sql(\"SELECT to_date('2009-07-30 04:17:52') <= to_date('2009-07-30 04:17:52')\").show(truncate=False)\n",
        "spark.sql(\"SELECT to_date('2009-07-30 04:17:52') <= to_date('2009-08-01 04:17:52')\").show(truncate=False)\n",
        "spark.sql(\"SELECT 1 <= NULL\").show(truncate=False)\n",
        "spark.sql(\"SELECT 2 <=> 2\").show(truncate=False)\n",
        "spark.sql(\"SELECT 1 <=> '1'\").show(truncate=False)\n",
        "spark.sql(\"SELECT true <=> NULL\").show(truncate=False)\n",
        "spark.sql(\"SELECT NULL <=> NULL\").show(truncate=False)\n",
        "spark.sql(\"SELECT 2 = 2\").show(truncate=False)\n",
        "spark.sql(\"SELECT 1 = '1'\").show(truncate=False)\n",
        "spark.sql(\"SELECT true = NULL\").show(truncate=False)\n",
        "spark.sql(\"SELECT NULL = NULL\").show(truncate=False)\n",
        "spark.sql(\"SELECT 2 == 2\").show(truncate=False)\n",
        "spark.sql(\"SELECT 1 == '1'\").show(truncate=False)\n",
        "spark.sql(\"SELECT true == NULL\").show(truncate=False)\n",
        "spark.sql(\"SELECT NULL == NULL\").show(truncate=False)"
      ],
      "metadata": {
        "colab": {
          "base_uri": "https://localhost:8080/"
        },
        "id": "JHl3TD6WgU86",
        "outputId": "b9e6556c-4cb7-4739-d358-9c6c48d93752"
      },
      "execution_count": 22,
      "outputs": [
        {
          "output_type": "stream",
          "name": "stdout",
          "text": [
            "+-------+\n",
            "|(1 < 2)|\n",
            "+-------+\n",
            "|true   |\n",
            "+-------+\n",
            "\n",
            "+---------+\n",
            "|(1.1 < 1)|\n",
            "+---------+\n",
            "|false    |\n",
            "+---------+\n",
            "\n",
            "+-------------------------------------------------------------+\n",
            "|(to_date(2009-07-30 04:17:52) < to_date(2009-07-30 04:17:52))|\n",
            "+-------------------------------------------------------------+\n",
            "|false                                                        |\n",
            "+-------------------------------------------------------------+\n",
            "\n",
            "+-------------------------------------------------------------+\n",
            "|(to_date(2009-07-30 04:17:52) < to_date(2009-08-01 04:17:52))|\n",
            "+-------------------------------------------------------------+\n",
            "|true                                                         |\n",
            "+-------------------------------------------------------------+\n",
            "\n",
            "+----------+\n",
            "|(1 < NULL)|\n",
            "+----------+\n",
            "|NULL      |\n",
            "+----------+\n",
            "\n",
            "+--------+\n",
            "|(2 <= 2)|\n",
            "+--------+\n",
            "|true    |\n",
            "+--------+\n",
            "\n",
            "+----------+\n",
            "|(1.0 <= 1)|\n",
            "+----------+\n",
            "|true      |\n",
            "+----------+\n",
            "\n",
            "+--------------------------------------------------------------+\n",
            "|(to_date(2009-07-30 04:17:52) <= to_date(2009-07-30 04:17:52))|\n",
            "+--------------------------------------------------------------+\n",
            "|true                                                          |\n",
            "+--------------------------------------------------------------+\n",
            "\n",
            "+--------------------------------------------------------------+\n",
            "|(to_date(2009-07-30 04:17:52) <= to_date(2009-08-01 04:17:52))|\n",
            "+--------------------------------------------------------------+\n",
            "|true                                                          |\n",
            "+--------------------------------------------------------------+\n",
            "\n",
            "+-----------+\n",
            "|(1 <= NULL)|\n",
            "+-----------+\n",
            "|NULL       |\n",
            "+-----------+\n",
            "\n",
            "+---------+\n",
            "|(2 <=> 2)|\n",
            "+---------+\n",
            "|true     |\n",
            "+---------+\n",
            "\n",
            "+---------+\n",
            "|(1 <=> 1)|\n",
            "+---------+\n",
            "|true     |\n",
            "+---------+\n",
            "\n",
            "+---------------+\n",
            "|(true <=> NULL)|\n",
            "+---------------+\n",
            "|false          |\n",
            "+---------------+\n",
            "\n",
            "+---------------+\n",
            "|(NULL <=> NULL)|\n",
            "+---------------+\n",
            "|true           |\n",
            "+---------------+\n",
            "\n",
            "+-------+\n",
            "|(2 = 2)|\n",
            "+-------+\n",
            "|true   |\n",
            "+-------+\n",
            "\n",
            "+-------+\n",
            "|(1 = 1)|\n",
            "+-------+\n",
            "|true   |\n",
            "+-------+\n",
            "\n",
            "+-------------+\n",
            "|(true = NULL)|\n",
            "+-------------+\n",
            "|NULL         |\n",
            "+-------------+\n",
            "\n",
            "+-------------+\n",
            "|(NULL = NULL)|\n",
            "+-------------+\n",
            "|NULL         |\n",
            "+-------------+\n",
            "\n",
            "+-------+\n",
            "|(2 = 2)|\n",
            "+-------+\n",
            "|true   |\n",
            "+-------+\n",
            "\n",
            "+-------+\n",
            "|(1 = 1)|\n",
            "+-------+\n",
            "|true   |\n",
            "+-------+\n",
            "\n",
            "+-------------+\n",
            "|(true = NULL)|\n",
            "+-------------+\n",
            "|NULL         |\n",
            "+-------------+\n",
            "\n",
            "+-------------+\n",
            "|(NULL = NULL)|\n",
            "+-------------+\n",
            "|NULL         |\n",
            "+-------------+\n",
            "\n"
          ]
        }
      ]
    },
    {
      "cell_type": "code",
      "source": [
        "spark.sql(\"SELECT ! true\").show(truncate=False)\n",
        "spark.sql(\"SELECT ! false\").show(truncate=False)\n",
        "spark.sql(\"SELECT ! NULL\").show(truncate=False)\n",
        "\n"
      ],
      "metadata": {
        "colab": {
          "base_uri": "https://localhost:8080/"
        },
        "id": "Ecc0-Rfbf-eS",
        "outputId": "1349e634-b4b0-42fe-9ae6-b7895c1ee7e1"
      },
      "execution_count": 21,
      "outputs": [
        {
          "output_type": "stream",
          "name": "stdout",
          "text": [
            "+----------+\n",
            "|(NOT true)|\n",
            "+----------+\n",
            "|false     |\n",
            "+----------+\n",
            "\n",
            "+-----------+\n",
            "|(NOT false)|\n",
            "+-----------+\n",
            "|true       |\n",
            "+-----------+\n",
            "\n",
            "+----------+\n",
            "|(NOT NULL)|\n",
            "+----------+\n",
            "|NULL      |\n",
            "+----------+\n",
            "\n"
          ]
        }
      ]
    },
    {
      "cell_type": "code",
      "source": [
        "spark.sql(\"SELECT typeof(1)\").show(truncate=False)\n",
        "spark.sql(\"SELECT typeof(array(1))\").show(truncate=False)\n",
        "spark.sql(\"SELECT typeof('1')\").show(truncate=False)\n",
        "spark.sql(\"SELECT typeof(11.44)\").show(truncate=False)"
      ],
      "metadata": {
        "colab": {
          "base_uri": "https://localhost:8080/"
        },
        "id": "LP6Y3qTyh7I6",
        "outputId": "e095fa44-f877-4eae-9bcc-b34a6e6d9b76"
      },
      "execution_count": 27,
      "outputs": [
        {
          "output_type": "stream",
          "name": "stdout",
          "text": [
            "+---------+\n",
            "|typeof(1)|\n",
            "+---------+\n",
            "|int      |\n",
            "+---------+\n",
            "\n",
            "+----------------+\n",
            "|typeof(array(1))|\n",
            "+----------------+\n",
            "|array<int>      |\n",
            "+----------------+\n",
            "\n",
            "+---------+\n",
            "|typeof(1)|\n",
            "+---------+\n",
            "|string   |\n",
            "+---------+\n",
            "\n",
            "+-------------+\n",
            "|typeof(11.44)|\n",
            "+-------------+\n",
            "|decimal(4,2) |\n",
            "+-------------+\n",
            "\n"
          ]
        }
      ]
    },
    {
      "cell_type": "code",
      "source": [],
      "metadata": {
        "id": "C-w52d4pjZC0"
      },
      "execution_count": null,
      "outputs": []
    },
    {
      "cell_type": "code",
      "source": [
        "spark.sql(\"SELECT CASE WHEN 1 < 0 THEN 'One' WHEN 2 > 0 THEN 'Two' ELSE '3' END\").show(truncate=False)"
      ],
      "metadata": {
        "colab": {
          "base_uri": "https://localhost:8080/"
        },
        "id": "RA9sjSATjY5d",
        "outputId": "b8310f99-f6e9-4303-ee21-7219a1768c96"
      },
      "execution_count": 30,
      "outputs": [
        {
          "output_type": "stream",
          "name": "stdout",
          "text": [
            "+-----------------------------------------------------------+\n",
            "|CASE WHEN (1 < 0) THEN One WHEN (2 > 0) THEN Two ELSE 3 END|\n",
            "+-----------------------------------------------------------+\n",
            "|Two                                                        |\n",
            "+-----------------------------------------------------------+\n",
            "\n"
          ]
        }
      ]
    },
    {
      "cell_type": "code",
      "source": [
        "spark.sql(\"SELECT split('LearnSparkSQLHere', '[e]')\").show(truncate=False)\n",
        "spark.sql(\"SELECT split('LearnSparkSQLHere', '[ek]', -1)\").show(truncate=False)\n",
        "spark.sql(\"SELECT split('LearnSparkSQLHere', '[e]', 2)\").show(truncate=False)"
      ],
      "metadata": {
        "colab": {
          "base_uri": "https://localhost:8080/"
        },
        "id": "GXq39lQmrYdT",
        "outputId": "b88088dd-3880-4ccc-ed80-8fcc33fbf315"
      },
      "execution_count": 35,
      "outputs": [
        {
          "output_type": "stream",
          "name": "stdout",
          "text": [
            "+---------------------------------+\n",
            "|split(LearnSparkSQLHere, [e], -1)|\n",
            "+---------------------------------+\n",
            "|[L, arnSparkSQLH, r, ]           |\n",
            "+---------------------------------+\n",
            "\n",
            "+----------------------------------+\n",
            "|split(LearnSparkSQLHere, [ek], -1)|\n",
            "+----------------------------------+\n",
            "|[L, arnSpar, SQLH, r, ]           |\n",
            "+----------------------------------+\n",
            "\n",
            "+--------------------------------+\n",
            "|split(LearnSparkSQLHere, [e], 2)|\n",
            "+--------------------------------+\n",
            "|[L, arnSparkSQLHere]            |\n",
            "+--------------------------------+\n",
            "\n"
          ]
        }
      ]
    },
    {
      "cell_type": "code",
      "source": [
        "spark.sql(\"SELECT mask('ABCD-abcd-123-@$#', 'Q', 'q', 'd', 'o')\").show(truncate=False)\n",
        "\n"
      ],
      "metadata": {
        "colab": {
          "base_uri": "https://localhost:8080/"
        },
        "id": "vDsOHkGwCniv",
        "outputId": "d6539174-4d07-4d72-9386-cd273f1a16de"
      },
      "execution_count": 40,
      "outputs": [
        {
          "output_type": "stream",
          "name": "stdout",
          "text": [
            "+-----------------------------------+\n",
            "|mask(ABCD-abcd-123-@$#, Q, q, d, o)|\n",
            "+-----------------------------------+\n",
            "|QQQQoqqqqodddoooo                  |\n",
            "+-----------------------------------+\n",
            "\n"
          ]
        }
      ]
    },
    {
      "cell_type": "code",
      "source": [
        "spark.sql(\"SELECT a, window.start as start, window.end as end, window_time(window), cnt FROM (SELECT a, window, count(*) as cnt FROM VALUES ('A1', '2021-01-01 00:00:00'), ('A1', '2021-01-01 00:04:30'), ('A1', '2021-01-01 00:06:00'), ('A2', '2021-01-01 00:01:00') AS tab(a, b) GROUP by a, window(b, '5 minutes') ORDER BY a, window.start)\").show(truncate=False)"
      ],
      "metadata": {
        "colab": {
          "base_uri": "https://localhost:8080/"
        },
        "id": "dwEWunsbzK6u",
        "outputId": "c76cd1e1-add8-4962-c2f9-6dcad6f4e7a5"
      },
      "execution_count": 3,
      "outputs": [
        {
          "output_type": "stream",
          "name": "stdout",
          "text": [
            "+---+-------------------+-------------------+--------------------------+---+\n",
            "|a  |start              |end                |window_time(window)       |cnt|\n",
            "+---+-------------------+-------------------+--------------------------+---+\n",
            "|A1 |2021-01-01 00:00:00|2021-01-01 00:05:00|2021-01-01 00:04:59.999999|2  |\n",
            "|A1 |2021-01-01 00:05:00|2021-01-01 00:10:00|2021-01-01 00:09:59.999999|1  |\n",
            "|A2 |2021-01-01 00:00:00|2021-01-01 00:05:00|2021-01-01 00:04:59.999999|1  |\n",
            "+---+-------------------+-------------------+--------------------------+---+\n",
            "\n"
          ]
        }
      ]
    },
    {
      "cell_type": "code",
      "source": [
        "spark.sql(\"SELECT nvl(NULL, 'FirstOneNull')\").show(truncate=False)\n",
        "spark.sql(\"SELECT nvl2(NULL, 2, 1)\").show(truncate=False)"
      ],
      "metadata": {
        "colab": {
          "base_uri": "https://localhost:8080/"
        },
        "id": "pT5yv1_aBHha",
        "outputId": "fd619aee-39a1-4740-ec14-ee629a89ceca"
      },
      "execution_count": 36,
      "outputs": [
        {
          "output_type": "stream",
          "name": "stdout",
          "text": [
            "+-----------------------+\n",
            "|nvl(NULL, FirstOneNull)|\n",
            "+-----------------------+\n",
            "|FirstOneNull           |\n",
            "+-----------------------+\n",
            "\n",
            "+----------------+\n",
            "|nvl2(NULL, 2, 1)|\n",
            "+----------------+\n",
            "|1               |\n",
            "+----------------+\n",
            "\n"
          ]
        }
      ]
    },
    {
      "cell_type": "code",
      "source": [
        "spark.sql(\"SELECT uuid()\").show(truncate=False)"
      ],
      "metadata": {
        "colab": {
          "base_uri": "https://localhost:8080/"
        },
        "id": "GucsuDCWqfyZ",
        "outputId": "0ff95e3c-adb6-4023-f7b5-29e6b12a0f9d"
      },
      "execution_count": 31,
      "outputs": [
        {
          "output_type": "stream",
          "name": "stdout",
          "text": [
            "+------------------------------------+\n",
            "|uuid()                              |\n",
            "+------------------------------------+\n",
            "|d84f98bb-f7d6-44de-871a-7d17972e9cfe|\n",
            "+------------------------------------+\n",
            "\n"
          ]
        }
      ]
    },
    {
      "cell_type": "code",
      "source": [
        "spark.sql(\"SELECT to_number('454', '999')\").show(truncate=False)\n",
        "spark.sql(\"SELECT to_number('454.00', '000.00')\").show(truncate=False)\n",
        "spark.sql(\"SELECT to_number('12,454', '99,999')\").show(truncate=False)\n",
        "spark.sql(\"SELECT to_number('$78.12', '$99.99')\").show(truncate=False)\n",
        "spark.sql(\"SELECT to_number('12,454.8-', '99,999.9S')\").show(truncate=False)\n"
      ],
      "metadata": {
        "colab": {
          "base_uri": "https://localhost:8080/"
        },
        "id": "WM2JIrVlsEve",
        "outputId": "98d2f8ed-e568-4cd5-caf0-7530fa304734"
      },
      "execution_count": 7,
      "outputs": [
        {
          "output_type": "stream",
          "name": "stdout",
          "text": [
            "+-------------------+\n",
            "|to_number(454, 999)|\n",
            "+-------------------+\n",
            "|454                |\n",
            "+-------------------+\n",
            "\n",
            "+-------------------------+\n",
            "|to_number(454.00, 000.00)|\n",
            "+-------------------------+\n",
            "|454.00                   |\n",
            "+-------------------------+\n",
            "\n",
            "+-------------------------+\n",
            "|to_number(12,454, 99,999)|\n",
            "+-------------------------+\n",
            "|12454                    |\n",
            "+-------------------------+\n",
            "\n",
            "+-------------------------+\n",
            "|to_number($78.12, $99.99)|\n",
            "+-------------------------+\n",
            "|78.12                    |\n",
            "+-------------------------+\n",
            "\n",
            "+-------------------------------+\n",
            "|to_number(12,454.8-, 99,999.9S)|\n",
            "+-------------------------------+\n",
            "|-12454.8                       |\n",
            "+-------------------------------+\n",
            "\n"
          ]
        }
      ]
    }
  ]
}